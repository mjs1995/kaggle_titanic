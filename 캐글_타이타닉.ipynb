{
 "cells": [
  {
   "cell_type": "markdown",
   "metadata": {},
   "source": [
    "## Titanic"
   ]
  },
  {
   "cell_type": "markdown",
   "metadata": {},
   "source": [
    "목차:\n",
    "\n",
    "**[I. 데이터 불러오기 및 확인](#one)**\n",
    "\n",
    "- [a. 데이터 불러오기 및 결측치 확인](#one-a)\n",
    "\n",
    "**[II. EDA & FE](#two)**\n",
    "\n",
    "- [a. Pclass](#two-a)\n",
    "- [b. Sex](#two-b)\n",
    "- [c. SibSp](#two-c)\n",
    "- [d. Parch](#two-d)\n",
    "- [e. Name](#two-e)\n",
    "- [f. Age](#two-f)\n",
    "- [g. Embarked](#two-g)\n",
    "- [h. Fare](#two-h)\n",
    "- [i. cabin](#two-i)\n",
    "\n",
    "    \n",
    "**[III. 모델링](#three)**\n",
    "\n",
    "- [a. 로지스틱 회귀](#three-a)\n",
    "- [b. kfold](#three-b)\n",
    "- [c. 파라미터 튜닝 & GridSearchCV](#three-c)\n",
    "\n",
    "**[IV. 예측](#four)**\n",
    "\n",
    "- [a. 앙상블](#four-a)\n",
    "- [b. voting](#four-b)\n",
    "- [c. stacking](#four-c)"
   ]
  },
  {
   "cell_type": "markdown",
   "metadata": {},
   "source": [
    "## I. 데이터 불러오기 및 확인 <a id=\"one\"></a>"
   ]
  },
  {
   "cell_type": "markdown",
   "metadata": {},
   "source": [
    "1. 변수 | 설명\n",
    "------- | -------\n",
    "**PassengerId** | id\n",
    "**Survived** | 생존 여부 (0 = 사망, 1 = 생존) \n",
    "**Pclass** | 티켓 클래스 (1 = 1등석, 2 = 2등석, 3 = 3등석)\n",
    "**name** | 이름  \n",
    "**Sex** | 성별\n",
    "**Age** | 나이\n",
    "**SibSp** | 함께 탑승한 자녀 , 배우자 의 수\n",
    "**Parch** | 함께 탑승한 부모님 , 아이들 의 수\n",
    "**Fare** | 요금\n",
    "**Ticket** | 티켓 번호\n",
    "**Cabin** | 수하물 번호\n",
    "**Embarked** | 선착장 "
   ]
  },
  {
   "cell_type": "code",
   "execution_count": 1,
   "metadata": {},
   "outputs": [],
   "source": [
    "import pandas as pd\n",
    "import numpy as np\n",
    "import matplotlib.pyplot as plt\n",
    "%matplotlib inline\n",
    "import seaborn as sns\n",
    "import warnings\n",
    "warnings.filterwarnings(\"ignore\")"
   ]
  },
  {
   "cell_type": "code",
   "execution_count": 2,
   "metadata": {},
   "outputs": [],
   "source": [
    "plt.rcParams[\"font.family\"] = 'Malgun Gothic'"
   ]
  },
  {
   "cell_type": "markdown",
   "metadata": {},
   "source": [
    "### a. 데이터 불러오기 및 결측치 확인 <a id=\"one-a\"></a>"
   ]
  },
  {
   "cell_type": "code",
   "execution_count": 3,
   "metadata": {},
   "outputs": [],
   "source": [
    "train = pd.read_csv(\"train.csv\")\n",
    "test  = pd.read_csv(\"test.csv\")\n",
    "sample_submission = pd.read_csv('gender_submission.csv')"
   ]
  },
  {
   "cell_type": "code",
   "execution_count": 4,
   "metadata": {},
   "outputs": [
    {
     "data": {
      "text/html": [
       "<div>\n",
       "<style scoped>\n",
       "    .dataframe tbody tr th:only-of-type {\n",
       "        vertical-align: middle;\n",
       "    }\n",
       "\n",
       "    .dataframe tbody tr th {\n",
       "        vertical-align: top;\n",
       "    }\n",
       "\n",
       "    .dataframe thead th {\n",
       "        text-align: right;\n",
       "    }\n",
       "</style>\n",
       "<table border=\"1\" class=\"dataframe\">\n",
       "  <thead>\n",
       "    <tr style=\"text-align: right;\">\n",
       "      <th></th>\n",
       "      <th>PassengerId</th>\n",
       "      <th>Survived</th>\n",
       "      <th>Pclass</th>\n",
       "      <th>Name</th>\n",
       "      <th>Sex</th>\n",
       "      <th>Age</th>\n",
       "      <th>SibSp</th>\n",
       "      <th>Parch</th>\n",
       "      <th>Ticket</th>\n",
       "      <th>Fare</th>\n",
       "      <th>Cabin</th>\n",
       "      <th>Embarked</th>\n",
       "    </tr>\n",
       "  </thead>\n",
       "  <tbody>\n",
       "    <tr>\n",
       "      <td>0</td>\n",
       "      <td>1</td>\n",
       "      <td>0</td>\n",
       "      <td>3</td>\n",
       "      <td>Braund, Mr. Owen Harris</td>\n",
       "      <td>male</td>\n",
       "      <td>22.0</td>\n",
       "      <td>1</td>\n",
       "      <td>0</td>\n",
       "      <td>A/5 21171</td>\n",
       "      <td>7.2500</td>\n",
       "      <td>NaN</td>\n",
       "      <td>S</td>\n",
       "    </tr>\n",
       "    <tr>\n",
       "      <td>1</td>\n",
       "      <td>2</td>\n",
       "      <td>1</td>\n",
       "      <td>1</td>\n",
       "      <td>Cumings, Mrs. John Bradley (Florence Briggs Th...</td>\n",
       "      <td>female</td>\n",
       "      <td>38.0</td>\n",
       "      <td>1</td>\n",
       "      <td>0</td>\n",
       "      <td>PC 17599</td>\n",
       "      <td>71.2833</td>\n",
       "      <td>C85</td>\n",
       "      <td>C</td>\n",
       "    </tr>\n",
       "    <tr>\n",
       "      <td>2</td>\n",
       "      <td>3</td>\n",
       "      <td>1</td>\n",
       "      <td>3</td>\n",
       "      <td>Heikkinen, Miss. Laina</td>\n",
       "      <td>female</td>\n",
       "      <td>26.0</td>\n",
       "      <td>0</td>\n",
       "      <td>0</td>\n",
       "      <td>STON/O2. 3101282</td>\n",
       "      <td>7.9250</td>\n",
       "      <td>NaN</td>\n",
       "      <td>S</td>\n",
       "    </tr>\n",
       "  </tbody>\n",
       "</table>\n",
       "</div>"
      ],
      "text/plain": [
       "   PassengerId  Survived  Pclass  \\\n",
       "0            1         0       3   \n",
       "1            2         1       1   \n",
       "2            3         1       3   \n",
       "\n",
       "                                                Name     Sex   Age  SibSp  \\\n",
       "0                            Braund, Mr. Owen Harris    male  22.0      1   \n",
       "1  Cumings, Mrs. John Bradley (Florence Briggs Th...  female  38.0      1   \n",
       "2                             Heikkinen, Miss. Laina  female  26.0      0   \n",
       "\n",
       "   Parch            Ticket     Fare Cabin Embarked  \n",
       "0      0         A/5 21171   7.2500   NaN        S  \n",
       "1      0          PC 17599  71.2833   C85        C  \n",
       "2      0  STON/O2. 3101282   7.9250   NaN        S  "
      ]
     },
     "execution_count": 4,
     "metadata": {},
     "output_type": "execute_result"
    }
   ],
   "source": [
    "train.head(3)"
   ]
  },
  {
   "cell_type": "code",
   "execution_count": 5,
   "metadata": {},
   "outputs": [
    {
     "data": {
      "text/html": [
       "<div>\n",
       "<style scoped>\n",
       "    .dataframe tbody tr th:only-of-type {\n",
       "        vertical-align: middle;\n",
       "    }\n",
       "\n",
       "    .dataframe tbody tr th {\n",
       "        vertical-align: top;\n",
       "    }\n",
       "\n",
       "    .dataframe thead th {\n",
       "        text-align: right;\n",
       "    }\n",
       "</style>\n",
       "<table border=\"1\" class=\"dataframe\">\n",
       "  <thead>\n",
       "    <tr style=\"text-align: right;\">\n",
       "      <th></th>\n",
       "      <th>PassengerId</th>\n",
       "      <th>Pclass</th>\n",
       "      <th>Name</th>\n",
       "      <th>Sex</th>\n",
       "      <th>Age</th>\n",
       "      <th>SibSp</th>\n",
       "      <th>Parch</th>\n",
       "      <th>Ticket</th>\n",
       "      <th>Fare</th>\n",
       "      <th>Cabin</th>\n",
       "      <th>Embarked</th>\n",
       "    </tr>\n",
       "  </thead>\n",
       "  <tbody>\n",
       "    <tr>\n",
       "      <td>0</td>\n",
       "      <td>892</td>\n",
       "      <td>3</td>\n",
       "      <td>Kelly, Mr. James</td>\n",
       "      <td>male</td>\n",
       "      <td>34.5</td>\n",
       "      <td>0</td>\n",
       "      <td>0</td>\n",
       "      <td>330911</td>\n",
       "      <td>7.8292</td>\n",
       "      <td>NaN</td>\n",
       "      <td>Q</td>\n",
       "    </tr>\n",
       "    <tr>\n",
       "      <td>1</td>\n",
       "      <td>893</td>\n",
       "      <td>3</td>\n",
       "      <td>Wilkes, Mrs. James (Ellen Needs)</td>\n",
       "      <td>female</td>\n",
       "      <td>47.0</td>\n",
       "      <td>1</td>\n",
       "      <td>0</td>\n",
       "      <td>363272</td>\n",
       "      <td>7.0000</td>\n",
       "      <td>NaN</td>\n",
       "      <td>S</td>\n",
       "    </tr>\n",
       "    <tr>\n",
       "      <td>2</td>\n",
       "      <td>894</td>\n",
       "      <td>2</td>\n",
       "      <td>Myles, Mr. Thomas Francis</td>\n",
       "      <td>male</td>\n",
       "      <td>62.0</td>\n",
       "      <td>0</td>\n",
       "      <td>0</td>\n",
       "      <td>240276</td>\n",
       "      <td>9.6875</td>\n",
       "      <td>NaN</td>\n",
       "      <td>Q</td>\n",
       "    </tr>\n",
       "    <tr>\n",
       "      <td>3</td>\n",
       "      <td>895</td>\n",
       "      <td>3</td>\n",
       "      <td>Wirz, Mr. Albert</td>\n",
       "      <td>male</td>\n",
       "      <td>27.0</td>\n",
       "      <td>0</td>\n",
       "      <td>0</td>\n",
       "      <td>315154</td>\n",
       "      <td>8.6625</td>\n",
       "      <td>NaN</td>\n",
       "      <td>S</td>\n",
       "    </tr>\n",
       "    <tr>\n",
       "      <td>4</td>\n",
       "      <td>896</td>\n",
       "      <td>3</td>\n",
       "      <td>Hirvonen, Mrs. Alexander (Helga E Lindqvist)</td>\n",
       "      <td>female</td>\n",
       "      <td>22.0</td>\n",
       "      <td>1</td>\n",
       "      <td>1</td>\n",
       "      <td>3101298</td>\n",
       "      <td>12.2875</td>\n",
       "      <td>NaN</td>\n",
       "      <td>S</td>\n",
       "    </tr>\n",
       "  </tbody>\n",
       "</table>\n",
       "</div>"
      ],
      "text/plain": [
       "   PassengerId  Pclass                                          Name     Sex  \\\n",
       "0          892       3                              Kelly, Mr. James    male   \n",
       "1          893       3              Wilkes, Mrs. James (Ellen Needs)  female   \n",
       "2          894       2                     Myles, Mr. Thomas Francis    male   \n",
       "3          895       3                              Wirz, Mr. Albert    male   \n",
       "4          896       3  Hirvonen, Mrs. Alexander (Helga E Lindqvist)  female   \n",
       "\n",
       "    Age  SibSp  Parch   Ticket     Fare Cabin Embarked  \n",
       "0  34.5      0      0   330911   7.8292   NaN        Q  \n",
       "1  47.0      1      0   363272   7.0000   NaN        S  \n",
       "2  62.0      0      0   240276   9.6875   NaN        Q  \n",
       "3  27.0      0      0   315154   8.6625   NaN        S  \n",
       "4  22.0      1      1  3101298  12.2875   NaN        S  "
      ]
     },
     "execution_count": 5,
     "metadata": {},
     "output_type": "execute_result"
    }
   ],
   "source": [
    "test.head()"
   ]
  },
  {
   "cell_type": "code",
   "execution_count": 6,
   "metadata": {},
   "outputs": [
    {
     "name": "stdout",
     "output_type": "stream",
     "text": [
      "<class 'pandas.core.frame.DataFrame'>\n",
      "RangeIndex: 891 entries, 0 to 890\n",
      "Data columns (total 12 columns):\n",
      "PassengerId    891 non-null int64\n",
      "Survived       891 non-null int64\n",
      "Pclass         891 non-null int64\n",
      "Name           891 non-null object\n",
      "Sex            891 non-null object\n",
      "Age            714 non-null float64\n",
      "SibSp          891 non-null int64\n",
      "Parch          891 non-null int64\n",
      "Ticket         891 non-null object\n",
      "Fare           891 non-null float64\n",
      "Cabin          204 non-null object\n",
      "Embarked       889 non-null object\n",
      "dtypes: float64(2), int64(5), object(5)\n",
      "memory usage: 83.7+ KB\n"
     ]
    }
   ],
   "source": [
    "train.info()"
   ]
  },
  {
   "cell_type": "code",
   "execution_count": 7,
   "metadata": {},
   "outputs": [
    {
     "name": "stdout",
     "output_type": "stream",
     "text": [
      "<class 'pandas.core.frame.DataFrame'>\n",
      "RangeIndex: 418 entries, 0 to 417\n",
      "Data columns (total 11 columns):\n",
      "PassengerId    418 non-null int64\n",
      "Pclass         418 non-null int64\n",
      "Name           418 non-null object\n",
      "Sex            418 non-null object\n",
      "Age            332 non-null float64\n",
      "SibSp          418 non-null int64\n",
      "Parch          418 non-null int64\n",
      "Ticket         418 non-null object\n",
      "Fare           417 non-null float64\n",
      "Cabin          91 non-null object\n",
      "Embarked       418 non-null object\n",
      "dtypes: float64(2), int64(4), object(5)\n",
      "memory usage: 36.0+ KB\n"
     ]
    }
   ],
   "source": [
    "test.info()"
   ]
  },
  {
   "cell_type": "code",
   "execution_count": 8,
   "metadata": {},
   "outputs": [
    {
     "data": {
      "text/plain": [
       "PassengerId      0\n",
       "Survived         0\n",
       "Pclass           0\n",
       "Name             0\n",
       "Sex              0\n",
       "Age            177\n",
       "SibSp            0\n",
       "Parch            0\n",
       "Ticket           0\n",
       "Fare             0\n",
       "Cabin          687\n",
       "Embarked         2\n",
       "dtype: int64"
      ]
     },
     "execution_count": 8,
     "metadata": {},
     "output_type": "execute_result"
    }
   ],
   "source": [
    "train.isnull().sum()"
   ]
  },
  {
   "cell_type": "code",
   "execution_count": 9,
   "metadata": {},
   "outputs": [
    {
     "data": {
      "text/plain": [
       "PassengerId      0\n",
       "Pclass           0\n",
       "Name             0\n",
       "Sex              0\n",
       "Age             86\n",
       "SibSp            0\n",
       "Parch            0\n",
       "Ticket           0\n",
       "Fare             1\n",
       "Cabin          327\n",
       "Embarked         0\n",
       "dtype: int64"
      ]
     },
     "execution_count": 9,
     "metadata": {},
     "output_type": "execute_result"
    }
   ],
   "source": [
    "test.isnull().sum()"
   ]
  },
  {
   "cell_type": "markdown",
   "metadata": {},
   "source": [
    "> 결측치 확인 결과 AGE와 Cabin, Embarked 피처에 대해 처리를 해줘야 될거 같다"
   ]
  },
  {
   "cell_type": "markdown",
   "metadata": {},
   "source": [
    "## II. EDA & FE <a id=\"two\"></a> "
   ]
  },
  {
   "cell_type": "code",
   "execution_count": 10,
   "metadata": {},
   "outputs": [],
   "source": [
    "fe_name = list(test)\n",
    "df_train = train[fe_name]\n",
    "df = pd.concat((df_train,test))"
   ]
  },
  {
   "cell_type": "code",
   "execution_count": 11,
   "metadata": {},
   "outputs": [
    {
     "name": "stdout",
     "output_type": "stream",
     "text": [
      "(891, 12) (418, 11) (1309, 11)\n"
     ]
    }
   ],
   "source": [
    "print(train.shape, test.shape, df.shape)"
   ]
  },
  {
   "cell_type": "code",
   "execution_count": 12,
   "metadata": {},
   "outputs": [],
   "source": [
    "target = train['Survived']"
   ]
  },
  {
   "cell_type": "code",
   "execution_count": 13,
   "metadata": {},
   "outputs": [],
   "source": [
    "def stack_plot(feature):\n",
    "    survived = train[train['Survived'] == 1][feature].value_counts()\n",
    "    dead = train[train['Survived'] == 0][feature].value_counts()\n",
    "    df = pd.DataFrame([survived,dead])\n",
    "    df.index = ['survived','dead']\n",
    "    df.plot(kind='bar', stacked= True, figsize = (10,5))"
   ]
  },
  {
   "cell_type": "code",
   "execution_count": 14,
   "metadata": {},
   "outputs": [
    {
     "data": {
      "text/plain": [
       "([<matplotlib.patches.Wedge at 0x1d7df3106c8>,\n",
       "  <matplotlib.patches.Wedge at 0x1d7df310dc8>],\n",
       " [Text(-0.3925749350994583, 1.0275626113924428, 'survived'),\n",
       "  Text(0.3925750313068116, -1.0275625746369201, 'dead')],\n",
       " [Text(-0.21413178278152267, 0.5604886971231505, '62%'),\n",
       "  Text(0.21413183525826085, -0.5604886770746836, '38%')])"
      ]
     },
     "execution_count": 14,
     "metadata": {},
     "output_type": "execute_result"
    },
    {
     "data": {
      "image/png": "[encoded data removed]",
      "text/plain": [
       "<Figure size 432x288 with 1 Axes>"
      ]
     },
     "metadata": {},
     "output_type": "display_data"
    }
   ],
   "source": [
    "lable = ['survived','dead']\n",
    "plt.title('생존 수')\n",
    "plt.pie(train['Survived'].value_counts(),labels= lable,autopct='%.f%%')"
   ]
  },
  {
   "cell_type": "markdown",
   "metadata": {},
   "source": [
    ">전체 62%가 사망한것을 볼 수 있다."
   ]
  },
  {
   "cell_type": "markdown",
   "metadata": {},
   "source": [
    "### a.Pclass <a id=\"two-a\"></a>"
   ]
  },
  {
   "cell_type": "code",
   "execution_count": 15,
   "metadata": {},
   "outputs": [
    {
     "data": {
      "image/png": "[encoded data removed]",
      "text/plain": [
       "<Figure size 720x360 with 1 Axes>"
      ]
     },
     "metadata": {
      "needs_background": "light"
     },
     "output_type": "display_data"
    }
   ],
   "source": [
    "stack_plot('Pclass')"
   ]
  },
  {
   "cell_type": "code",
   "execution_count": 16,
   "metadata": {},
   "outputs": [],
   "source": [
    "Pclass_encoded = pd.get_dummies(df['Pclass'],prefix= 'Pclass')\n",
    "df = pd.concat((df,Pclass_encoded), axis=1)\n",
    "df = df.drop(columns = 'Pclass')"
   ]
  },
  {
   "cell_type": "markdown",
   "metadata": {},
   "source": [
    ">3등석 사람이 많이 죽은 것을 볼 수 있으며 Pclass 피처는 카테코리 변수로 판단하여 원핫 인코딩을 위해 더미변수로 만듭니다."
   ]
  },
  {
   "cell_type": "markdown",
   "metadata": {},
   "source": [
    "### b.Sex <a id=\"two-b\"></a>"
   ]
  },
  {
   "cell_type": "code",
   "execution_count": 17,
   "metadata": {},
   "outputs": [
    {
     "data": {
      "image/png": "[encoded data removed]",
      "text/plain": [
       "<Figure size 720x360 with 1 Axes>"
      ]
     },
     "metadata": {
      "needs_background": "light"
     },
     "output_type": "display_data"
    }
   ],
   "source": [
    "stack_plot('Sex')"
   ]
  },
  {
   "cell_type": "code",
   "execution_count": 18,
   "metadata": {},
   "outputs": [],
   "source": [
    "sex_encoded = pd.get_dummies(df['Sex'],prefix= 'Sex')\n",
    "df = pd.concat((df,sex_encoded), axis=1)\n",
    "df = df.drop(columns = 'Sex')"
   ]
  },
  {
   "cell_type": "code",
   "execution_count": 19,
   "metadata": {},
   "outputs": [],
   "source": [
    "df.drop('Sex_female', axis=1, inplace=True)"
   ]
  },
  {
   "cell_type": "markdown",
   "metadata": {},
   "source": [
    ">Sex 피처는 카테코리 변수로 판단하여 원핫 인코딩을 위해 더미변수로 만듭니다."
   ]
  },
  {
   "cell_type": "markdown",
   "metadata": {},
   "source": [
    "### c.SibSp <a id=\"two-c\"></a>"
   ]
  },
  {
   "cell_type": "code",
   "execution_count": 20,
   "metadata": {},
   "outputs": [
    {
     "data": {
      "image/png": "[encoded data removed]",
      "text/plain": [
       "<Figure size 720x360 with 1 Axes>"
      ]
     },
     "metadata": {
      "needs_background": "light"
     },
     "output_type": "display_data"
    }
   ],
   "source": [
    "stack_plot('SibSp')"
   ]
  },
  {
   "cell_type": "markdown",
   "metadata": {},
   "source": [
    "### d.Parch <a id=\"two-d\"></a>"
   ]
  },
  {
   "cell_type": "code",
   "execution_count": 21,
   "metadata": {},
   "outputs": [
    {
     "data": {
      "image/png": "[encoded data removed]",
      "text/plain": [
       "<Figure size 720x360 with 1 Axes>"
      ]
     },
     "metadata": {
      "needs_background": "light"
     },
     "output_type": "display_data"
    }
   ],
   "source": [
    "stack_plot('Parch')"
   ]
  },
  {
   "cell_type": "code",
   "execution_count": 22,
   "metadata": {},
   "outputs": [],
   "source": [
    "df['Travelpeople']=df[\"SibSp\"]+df[\"Parch\"]\n",
    "df['TravelAlone']=np.where(df['Travelpeople']>0, 0, 1)"
   ]
  },
  {
   "cell_type": "code",
   "execution_count": 23,
   "metadata": {},
   "outputs": [],
   "source": [
    "df.drop('SibSp', axis=1, inplace=True)\n",
    "df.drop('Parch', axis=1, inplace=True)"
   ]
  },
  {
   "cell_type": "code",
   "execution_count": 24,
   "metadata": {},
   "outputs": [],
   "source": [
    "df.drop('Travelpeople', axis=1, inplace=True)"
   ]
  },
  {
   "cell_type": "markdown",
   "metadata": {},
   "source": [
    ">SibSp와 Parch 변수들은 같이 여행을 온 경우로 판단하여\n",
    "다중 공선성을 고려하여 하나로 합친 다음에 여행을 혼자 왔는지 아닌지로 파생변수를 만듭니다."
   ]
  },
  {
   "cell_type": "markdown",
   "metadata": {},
   "source": [
    "### e.Name <a id=\"two-e\"></a>"
   ]
  },
  {
   "cell_type": "markdown",
   "metadata": {},
   "source": [
    ">Mr - 남자\n",
    "Mrs. 결혼한 기혼 여자\n",
    "Miss. 결혼하지 않은 미혼 여자\n",
    "Ms. 여자일경우"
   ]
  },
  {
   "cell_type": "code",
   "execution_count": 25,
   "metadata": {},
   "outputs": [],
   "source": [
    "df['New_name']  = df['Name'].str.extract('([A-Za-z]+)\\.', expand=False)\n",
    "train['New_name']  = train['Name'].str.extract('([A-Za-z]+)\\.', expand=False)"
   ]
  },
  {
   "cell_type": "code",
   "execution_count": 26,
   "metadata": {},
   "outputs": [],
   "source": [
    "train ['New_name'] =  train['New_name'].map({\"Mr\": 0 , \"Mrs\":2, \"Miss\":1,\"Dr\":3,\"Rev\":3,\n",
    "                                             \"Mlle\":3,\"Major\":3,\"Col\":3,\"Ms\":3,\"Jonkheer\":3,\n",
    "                                             \"Sir\" :3,\"Lady\":3,\"Mme\":3,\"Capt\":3,\"Don\":3,\"Countess\":3})\n",
    "df['New_name'] =  df['New_name'].map({\"Mr\": 0 , \"Mrs\":2, \"Miss\":1,\"Dr\":3,\"Rev\":3,\n",
    "                                             \"Mlle\":3,\"Major\":3,\"Col\":3,\"Ms\":3,\"Jonkheer\":3,\n",
    "                                             \"Sir\" :3,\"Lady\":3,\"Mme\":3,\"Capt\":3,\"Don\":3,\"Countess\":3})"
   ]
  },
  {
   "cell_type": "code",
   "execution_count": 27,
   "metadata": {},
   "outputs": [
    {
     "data": {
      "image/png": "[encoded data removed]",
      "text/plain": [
       "<Figure size 720x360 with 1 Axes>"
      ]
     },
     "metadata": {
      "needs_background": "light"
     },
     "output_type": "display_data"
    }
   ],
   "source": [
    "stack_plot('New_name')"
   ]
  },
  {
   "cell_type": "code",
   "execution_count": 28,
   "metadata": {},
   "outputs": [],
   "source": [
    "df['New_name'] = df['New_name'].fillna('0')"
   ]
  },
  {
   "cell_type": "code",
   "execution_count": 29,
   "metadata": {},
   "outputs": [],
   "source": [
    "df = df.astype({'New_name':'float'})"
   ]
  },
  {
   "cell_type": "code",
   "execution_count": 30,
   "metadata": {},
   "outputs": [],
   "source": [
    "df = df.drop(columns = 'Name')"
   ]
  },
  {
   "cell_type": "code",
   "execution_count": 31,
   "metadata": {},
   "outputs": [],
   "source": [
    "New_name_encoded = pd.get_dummies(df['New_name'],prefix= 'New_name')\n",
    "df = pd.concat((df,New_name_encoded), axis=1)\n",
    "df = df.drop(columns = 'New_name')"
   ]
  },
  {
   "cell_type": "markdown",
   "metadata": {},
   "source": [
    "> 이름의 경우 정규 표현식을 이용해서 Name 피처를 처리해주고 남자 여자 그외로 매핑해준다.\n",
    "Mr - 남자 / Mrs. 결혼한 기혼 여자 / Miss. 결혼하지 않은 미혼 여자 / MS. 여자일 경우\n",
    "그래프를 보면 남자가 많이 사망한것으로 보며 결측치를 남자로 채웠고 더미변수를 만들어 주었다."
   ]
  },
  {
   "cell_type": "markdown",
   "metadata": {},
   "source": [
    "### f.Age <a id=\"two-f\"></a>"
   ]
  },
  {
   "cell_type": "code",
   "execution_count": 32,
   "metadata": {},
   "outputs": [
    {
     "data": {
      "text/plain": [
       "<matplotlib.axes._subplots.AxesSubplot at 0x1d7df69e948>"
      ]
     },
     "execution_count": 32,
     "metadata": {},
     "output_type": "execute_result"
    },
    {
     "data": {
      "image/png": "[encoded data removed]",
      "text/plain": [
       "<Figure size 432x288 with 1 Axes>"
      ]
     },
     "metadata": {
      "needs_background": "light"
     },
     "output_type": "display_data"
    }
   ],
   "source": [
    "df['Age'].hist(bins = 15)"
   ]
  },
  {
   "cell_type": "code",
   "execution_count": 33,
   "metadata": {},
   "outputs": [],
   "source": [
    "df['Age'].fillna(28, inplace = True)"
   ]
  },
  {
   "cell_type": "markdown",
   "metadata": {},
   "source": [
    ">Age 피처의 데이터 확인결과 우측으로 기울어져있기 때문에 평균값을 사용하는 것보다 중앙값을 사용하기로 했다"
   ]
  },
  {
   "cell_type": "markdown",
   "metadata": {},
   "source": [
    "### g.Embarked <a id=\"two-g\"></a>"
   ]
  },
  {
   "cell_type": "code",
   "execution_count": 34,
   "metadata": {},
   "outputs": [
    {
     "data": {
      "text/plain": [
       "<matplotlib.axes._subplots.AxesSubplot at 0x1d7df786a88>"
      ]
     },
     "execution_count": 34,
     "metadata": {},
     "output_type": "execute_result"
    },
    {
     "data": {
      "image/png": "[encoded data removed]",
      "text/plain": [
       "<Figure size 432x288 with 1 Axes>"
      ]
     },
     "metadata": {
      "needs_background": "light"
     },
     "output_type": "display_data"
    }
   ],
   "source": [
    "sns.countplot(x= 'Embarked', data= df)"
   ]
  },
  {
   "cell_type": "code",
   "execution_count": 35,
   "metadata": {},
   "outputs": [],
   "source": [
    "df['Embarked'].fillna('S',inplace=True)"
   ]
  },
  {
   "cell_type": "code",
   "execution_count": 36,
   "metadata": {},
   "outputs": [],
   "source": [
    "Embarked_encoded = pd.get_dummies(df['Embarked'],prefix= 'Embarked')\n",
    "df = pd.concat((df,Embarked_encoded), axis=1)\n",
    "df = df.drop(columns = 'Embarked')"
   ]
  },
  {
   "cell_type": "markdown",
   "metadata": {},
   "source": [
    ">Embarked 피처는 countplot 결과 S선착장이 많은 것을 볼 수 잇으며 결측치를 S로 대체하였고\n",
    "카테코리 변수로 판단하여 원핫 인코딩을 위해 더미변수로 만듭니다."
   ]
  },
  {
   "cell_type": "markdown",
   "metadata": {},
   "source": [
    "### h.Fare <a id=\"two-h\"></a>"
   ]
  },
  {
   "cell_type": "code",
   "execution_count": 37,
   "metadata": {},
   "outputs": [],
   "source": [
    "from scipy.stats import norm"
   ]
  },
  {
   "cell_type": "code",
   "execution_count": 38,
   "metadata": {},
   "outputs": [
    {
     "data": {
      "text/plain": [
       "<matplotlib.axes._subplots.AxesSubplot at 0x1d7df7c8d48>"
      ]
     },
     "execution_count": 38,
     "metadata": {},
     "output_type": "execute_result"
    },
    {
     "data": {
      "image/png": "[encoded data removed]",
      "text/plain": [
       "<Figure size 432x288 with 1 Axes>"
      ]
     },
     "metadata": {
      "needs_background": "light"
     },
     "output_type": "display_data"
    }
   ],
   "source": [
    "sns.distplot(train['Fare'],fit = norm)"
   ]
  },
  {
   "cell_type": "markdown",
   "metadata": {},
   "source": [
    ">정규규분포가 아닌 매우 비대칭 분포 멱변환을 통해서 정규화를 시켜준다"
   ]
  },
  {
   "cell_type": "code",
   "execution_count": 39,
   "metadata": {},
   "outputs": [],
   "source": [
    "df['Fare'] = df['Fare'].map(lambda i : np.log(i) if i >0 else 0)"
   ]
  },
  {
   "cell_type": "code",
   "execution_count": 40,
   "metadata": {},
   "outputs": [
    {
     "data": {
      "text/plain": [
       "<matplotlib.axes._subplots.AxesSubplot at 0x1d7df8e70c8>"
      ]
     },
     "execution_count": 40,
     "metadata": {},
     "output_type": "execute_result"
    },
    {
     "data": {
      "image/png": "[encoded data removed]",
      "text/plain": [
       "<Figure size 432x288 with 1 Axes>"
      ]
     },
     "metadata": {
      "needs_background": "light"
     },
     "output_type": "display_data"
    }
   ],
   "source": [
    "sns.distplot(df['Fare'],fit = norm)"
   ]
  },
  {
   "cell_type": "markdown",
   "metadata": {},
   "source": [
    ">정규규분포가 아닌 매우 비대칭 분포 멱변환을 통해서 정규화를 시켜준다"
   ]
  },
  {
   "cell_type": "markdown",
   "metadata": {},
   "source": [
    "### i.Cabin <a id=\"two-i\"></a>"
   ]
  },
  {
   "cell_type": "code",
   "execution_count": 41,
   "metadata": {},
   "outputs": [
    {
     "data": {
      "text/plain": [
       "C23 C25 C27        6\n",
       "G6                 5\n",
       "B57 B59 B63 B66    5\n",
       "F33                4\n",
       "C78                4\n",
       "                  ..\n",
       "E12                1\n",
       "B101               1\n",
       "F                  1\n",
       "B24                1\n",
       "D6                 1\n",
       "Name: Cabin, Length: 186, dtype: int64"
      ]
     },
     "execution_count": 41,
     "metadata": {},
     "output_type": "execute_result"
    }
   ],
   "source": [
    "df['Cabin'].value_counts()"
   ]
  },
  {
   "cell_type": "code",
   "execution_count": 42,
   "metadata": {},
   "outputs": [],
   "source": [
    "df = df.drop(columns = 'Cabin')"
   ]
  },
  {
   "cell_type": "markdown",
   "metadata": {},
   "source": [
    ">변수에 결측값이 너무 많아. 이 값은 승객의 클래스 및 지불 된 운임과 관련이있는 것으로 보고 드롭했습니다"
   ]
  },
  {
   "cell_type": "code",
   "execution_count": 43,
   "metadata": {},
   "outputs": [],
   "source": [
    "df = df.drop(['PassengerId','Ticket'],axis = 1)"
   ]
  },
  {
   "cell_type": "markdown",
   "metadata": {},
   "source": [
    "> PassengerId , Ticket 피처들도 모델링 과정에 필요없는 변수들이므로 드롭해줍니다"
   ]
  },
  {
   "cell_type": "code",
   "execution_count": 44,
   "metadata": {},
   "outputs": [
    {
     "data": {
      "text/plain": [
       "Age             0\n",
       "Fare            0\n",
       "Pclass_1        0\n",
       "Pclass_2        0\n",
       "Pclass_3        0\n",
       "Sex_male        0\n",
       "TravelAlone     0\n",
       "New_name_0.0    0\n",
       "New_name_1.0    0\n",
       "New_name_2.0    0\n",
       "New_name_3.0    0\n",
       "Embarked_C      0\n",
       "Embarked_Q      0\n",
       "Embarked_S      0\n",
       "dtype: int64"
      ]
     },
     "execution_count": 44,
     "metadata": {},
     "output_type": "execute_result"
    }
   ],
   "source": [
    "df.isnull().sum()"
   ]
  },
  {
   "cell_type": "code",
   "execution_count": null,
   "metadata": {},
   "outputs": [],
   "source": []
  },
  {
   "cell_type": "markdown",
   "metadata": {},
   "source": [
    "## III. 모델링 <a id=\"three\"></a>"
   ]
  },
  {
   "cell_type": "code",
   "execution_count": 45,
   "metadata": {},
   "outputs": [],
   "source": [
    "from xgboost import XGBClassifier\n",
    "from lightgbm import LGBMClassifier\n",
    "from sklearn.neighbors import KNeighborsClassifier\n",
    "from sklearn.ensemble import RandomForestClassifier\n",
    "from sklearn.ensemble import GradientBoostingClassifier\n",
    "from sklearn.tree import DecisionTreeClassifier\n",
    "from sklearn.linear_model import LogisticRegression\n",
    "from sklearn.svm import SVC"
   ]
  },
  {
   "cell_type": "markdown",
   "metadata": {},
   "source": [
    "### a. 로지스틱 회귀 <a id=\"three-a\"></a>"
   ]
  },
  {
   "cell_type": "code",
   "execution_count": 47,
   "metadata": {},
   "outputs": [],
   "source": [
    "new_train = df[:train.shape[0]]\n",
    "new_test = df[train.shape[0]:]"
   ]
  },
  {
   "cell_type": "code",
   "execution_count": 48,
   "metadata": {},
   "outputs": [],
   "source": [
    "cols=[\"Age\", \"Fare\", \"TravelAlone\", \"Pclass_1\", \"Pclass_2\",\"Embarked_C\",\"Embarked_S\",\n",
    "      \"Sex_male\",'New_name_0.0','New_name_1.0', 'New_name_2.0'] "
   ]
  },
  {
   "cell_type": "code",
   "execution_count": 49,
   "metadata": {},
   "outputs": [],
   "source": [
    "X = new_train[cols]\n",
    "Y = train['Survived']"
   ]
  },
  {
   "cell_type": "code",
   "execution_count": 50,
   "metadata": {},
   "outputs": [
    {
     "name": "stdout",
     "output_type": "stream",
     "text": [
      "Optimization terminated successfully.\n",
      "         Current function value: 0.445151\n",
      "         Iterations 6\n",
      "                           Logit Regression Results                           \n",
      "==============================================================================\n",
      "Dep. Variable:               Survived   No. Observations:                  891\n",
      "Model:                          Logit   Df Residuals:                      880\n",
      "Method:                           MLE   Df Model:                           10\n",
      "Date:                Mon, 01 Jun 2020   Pseudo R-squ.:                  0.3315\n",
      "Time:                        21:19:53   Log-Likelihood:                -396.63\n",
      "converged:                       True   LL-Null:                       -593.33\n",
      "Covariance Type:            nonrobust   LLR p-value:                 2.393e-78\n",
      "================================================================================\n",
      "                   coef    std err          z      P>|z|      [0.025      0.975]\n",
      "--------------------------------------------------------------------------------\n",
      "Age             -0.0386      0.008     -4.734      0.000      -0.055      -0.023\n",
      "Fare             0.1720      0.135      1.270      0.204      -0.093       0.437\n",
      "TravelAlone      0.4119      0.229      1.800      0.072      -0.037       0.860\n",
      "Pclass_1         2.1426      0.328      6.540      0.000       1.500       2.785\n",
      "Pclass_2         1.2468      0.241      5.165      0.000       0.774       1.720\n",
      "Embarked_C       0.0039      0.364      0.011      0.991      -0.710       0.718\n",
      "Embarked_S      -0.5378      0.311     -1.729      0.084      -1.148       0.072\n",
      "Sex_male        -1.7680      0.737     -2.399      0.016      -3.213      -0.324\n",
      "New_name_0.0     0.1938      0.572      0.339      0.735      -0.927       1.315\n",
      "New_name_1.0     0.7226      0.495      1.460      0.144      -0.247       1.693\n",
      "New_name_2.0     1.5795      0.565      2.797      0.005       0.473       2.686\n",
      "================================================================================\n"
     ]
    }
   ],
   "source": [
    "import statsmodels.api as sm\n",
    "from scipy import stats\n",
    "stats.chisqprob = lambda chisq, df: stats.chi2.sf(chisq, df)\n",
    "logit_model=sm.Logit(Y,X)\n",
    "result=logit_model.fit()\n",
    "print(result.summary())"
   ]
  },
  {
   "cell_type": "markdown",
   "metadata": {},
   "source": [
    "> 로지스틱 모델 확인 결과 Fare, Embarked_S,Embarked_C,New_name_0 피처에 대해서 p-value가 0.05 기준으로 높게 나와있으므로 해당 피처를 모두 제고하고 다시 확인해 봅니다."
   ]
  },
  {
   "cell_type": "code",
   "execution_count": 51,
   "metadata": {},
   "outputs": [],
   "source": [
    "cols2 = [\"Age\", \"TravelAlone\", \"Pclass_1\", \"Pclass_2\",\"Embarked_S\",\n",
    "      \"Sex_male\",'New_name_1.0', 'New_name_2.0'] "
   ]
  },
  {
   "cell_type": "code",
   "execution_count": 52,
   "metadata": {},
   "outputs": [
    {
     "name": "stdout",
     "output_type": "stream",
     "text": [
      "Optimization terminated successfully.\n",
      "         Current function value: 0.446233\n",
      "         Iterations 6\n",
      "                           Logit Regression Results                           \n",
      "==============================================================================\n",
      "Dep. Variable:               Survived   No. Observations:                  891\n",
      "Model:                          Logit   Df Residuals:                      883\n",
      "Method:                           MLE   Df Model:                            7\n",
      "Date:                Mon, 01 Jun 2020   Pseudo R-squ.:                  0.3299\n",
      "Time:                        21:19:53   Log-Likelihood:                -397.59\n",
      "converged:                       True   LL-Null:                       -593.33\n",
      "Covariance Type:            nonrobust   LLR p-value:                 1.611e-80\n",
      "================================================================================\n",
      "                   coef    std err          z      P>|z|      [0.025      0.975]\n",
      "--------------------------------------------------------------------------------\n",
      "Age             -0.0384      0.008     -4.773      0.000      -0.054      -0.023\n",
      "TravelAlone      0.2767      0.201      1.376      0.169      -0.118       0.671\n",
      "Pclass_1         2.4049      0.248      9.700      0.000       1.919       2.891\n",
      "Pclass_2         1.3182      0.232      5.677      0.000       0.863       1.773\n",
      "Embarked_S      -0.5353      0.199     -2.684      0.007      -0.926      -0.144\n",
      "Sex_male        -1.1011      0.283     -3.893      0.000      -1.656      -0.547\n",
      "New_name_1.0     1.2314      0.272      4.525      0.000       0.698       1.765\n",
      "New_name_2.0     2.0708      0.386      5.367      0.000       1.315       2.827\n",
      "================================================================================\n"
     ]
    }
   ],
   "source": [
    "X2=new_train[cols2]\n",
    "Y=train['Survived']\n",
    "\n",
    "logit_model=sm.Logit(Y,X2)\n",
    "result=logit_model.fit()\n",
    "print(result.summary())"
   ]
  },
  {
   "cell_type": "markdown",
   "metadata": {},
   "source": [
    "> 로지스틱 모델 확인 결과 TravelAlone 피처에 대해서 p-value가 0.05 기준으로 높게 나와있으므로 피처를 모두 제고하고 다시 확인해 봅니다."
   ]
  },
  {
   "cell_type": "code",
   "execution_count": 53,
   "metadata": {},
   "outputs": [],
   "source": [
    "cols3=[\"Age\", \"Pclass_1\", \"Pclass_2\",\"Embarked_S\",\n",
    "      \"Sex_male\",'New_name_1.0', 'New_name_2.0'] "
   ]
  },
  {
   "cell_type": "code",
   "execution_count": 54,
   "metadata": {},
   "outputs": [
    {
     "name": "stdout",
     "output_type": "stream",
     "text": [
      "Optimization terminated successfully.\n",
      "         Current function value: 0.447313\n",
      "         Iterations 6\n",
      "                           Logit Regression Results                           \n",
      "==============================================================================\n",
      "Dep. Variable:               Survived   No. Observations:                  891\n",
      "Model:                          Logit   Df Residuals:                      884\n",
      "Method:                           MLE   Df Model:                            6\n",
      "Date:                Mon, 01 Jun 2020   Pseudo R-squ.:                  0.3283\n",
      "Time:                        21:19:53   Log-Likelihood:                -398.56\n",
      "converged:                       True   LL-Null:                       -593.33\n",
      "Covariance Type:            nonrobust   LLR p-value:                 4.944e-81\n",
      "================================================================================\n",
      "                   coef    std err          z      P>|z|      [0.025      0.975]\n",
      "--------------------------------------------------------------------------------\n",
      "Age             -0.0349      0.008     -4.617      0.000      -0.050      -0.020\n",
      "Pclass_1         2.3477      0.243      9.644      0.000       1.871       2.825\n",
      "Pclass_2         1.3108      0.232      5.654      0.000       0.856       1.765\n",
      "Embarked_S      -0.5247      0.199     -2.641      0.008      -0.914      -0.135\n",
      "Sex_male        -1.0078      0.273     -3.694      0.000      -1.543      -0.473\n",
      "New_name_1.0     1.3071      0.266      4.913      0.000       0.786       1.828\n",
      "New_name_2.0     1.9910      0.378      5.267      0.000       1.250       2.732\n",
      "================================================================================\n"
     ]
    }
   ],
   "source": [
    "X3=new_train[cols3]\n",
    "Y=train['Survived']\n",
    "\n",
    "logit_model=sm.Logit(Y,X3)\n",
    "result=logit_model.fit()\n",
    "print(result.summary())"
   ]
  },
  {
   "cell_type": "markdown",
   "metadata": {},
   "source": [
    "> 모든 피처들이 유의수준 0.05보다 낮은것을 확인 할 수 있습니다."
   ]
  },
  {
   "cell_type": "code",
   "execution_count": 55,
   "metadata": {},
   "outputs": [],
   "source": [
    "f_test = new_test[cols3]"
   ]
  },
  {
   "cell_type": "code",
   "execution_count": 56,
   "metadata": {},
   "outputs": [
    {
     "name": "stdout",
     "output_type": "stream",
     "text": [
      "모델 Accuracy : 80.36%\n"
     ]
    }
   ],
   "source": [
    "from sklearn.linear_model import LogisticRegression\n",
    "\n",
    "logreg = LogisticRegression()\n",
    "logreg.fit(X3, Y)\n",
    "\n",
    "print(\"모델 Accuracy : {:.2f}%\".format(logreg.score(X3, Y)*100))"
   ]
  },
  {
   "cell_type": "markdown",
   "metadata": {},
   "source": [
    "> 모델의 Accuracy를 높이기 위해서 로지스틱 회귀를 사용할 수 있겠지만 모델의 성능을 높이기 위해서\n",
    "여러 모델을 활용하여 앙상블을 합니다"
   ]
  },
  {
   "cell_type": "markdown",
   "metadata": {},
   "source": [
    "### b. kfold <a id=\"three-b\"></a>"
   ]
  },
  {
   "cell_type": "code",
   "execution_count": 58,
   "metadata": {},
   "outputs": [],
   "source": [
    "from sklearn.model_selection import GridSearchCV, cross_val_score, StratifiedKFold"
   ]
  },
  {
   "cell_type": "code",
   "execution_count": 93,
   "metadata": {},
   "outputs": [],
   "source": [
    "from xgboost import XGBClassifier\n",
    "from lightgbm import LGBMClassifier\n",
    "from sklearn.neighbors import KNeighborsClassifier\n",
    "from sklearn.ensemble import RandomForestClassifier\n",
    "from sklearn.ensemble import GradientBoostingClassifier\n",
    "from sklearn.tree import DecisionTreeClassifier\n",
    "from sklearn.linear_model import LogisticRegression\n",
    "from sklearn.svm import SVC"
   ]
  },
  {
   "cell_type": "code",
   "execution_count": 94,
   "metadata": {},
   "outputs": [],
   "source": [
    "kfold = StratifiedKFold(n_splits=8)"
   ]
  },
  {
   "cell_type": "code",
   "execution_count": 95,
   "metadata": {},
   "outputs": [],
   "source": [
    "random_state = 1\n",
    "clf = []\n",
    "\n",
    "clf.append(XGBClassifier(random_state = random_state))\n",
    "clf.append(LGBMClassifier(random_state = random_state))\n",
    "clf.append(KNeighborsClassifier())\n",
    "clf.append(RandomForestClassifier(random_state=random_state))\n",
    "clf.append(GradientBoostingClassifier(random_state=random_state))\n",
    "clf.append(DecisionTreeClassifier(random_state=random_state))\n",
    "clf.append(LogisticRegression(random_state = random_state))\n",
    "clf.append(SVC(random_state=random_state))"
   ]
  },
  {
   "cell_type": "code",
   "execution_count": 96,
   "metadata": {},
   "outputs": [],
   "source": [
    "clf_results = []\n",
    "for classifier in clf :\n",
    "    clf_results.append(cross_val_score(classifier, new_train, y = Y, scoring = \"accuracy\", cv = kfold, n_jobs=4))"
   ]
  },
  {
   "cell_type": "code",
   "execution_count": 97,
   "metadata": {},
   "outputs": [],
   "source": [
    "clf_means = []\n",
    "clf_std = []\n",
    "for clf_result in clf_results:\n",
    "    clf_means.append(clf_result.mean())\n",
    "    clf_std.append(clf_result.std())"
   ]
  },
  {
   "cell_type": "code",
   "execution_count": 98,
   "metadata": {},
   "outputs": [
    {
     "data": {
      "text/html": [
       "<div>\n",
       "<style scoped>\n",
       "    .dataframe tbody tr th:only-of-type {\n",
       "        vertical-align: middle;\n",
       "    }\n",
       "\n",
       "    .dataframe tbody tr th {\n",
       "        vertical-align: top;\n",
       "    }\n",
       "\n",
       "    .dataframe thead th {\n",
       "        text-align: right;\n",
       "    }\n",
       "</style>\n",
       "<table border=\"1\" class=\"dataframe\">\n",
       "  <thead>\n",
       "    <tr style=\"text-align: right;\">\n",
       "      <th></th>\n",
       "      <th>CrossValMeans</th>\n",
       "      <th>CrossValerrors</th>\n",
       "    </tr>\n",
       "  </thead>\n",
       "  <tbody>\n",
       "    <tr>\n",
       "      <td>0</td>\n",
       "      <td>0.820426</td>\n",
       "      <td>0.023359</td>\n",
       "    </tr>\n",
       "    <tr>\n",
       "      <td>1</td>\n",
       "      <td>0.820385</td>\n",
       "      <td>0.033114</td>\n",
       "    </tr>\n",
       "    <tr>\n",
       "      <td>2</td>\n",
       "      <td>0.798054</td>\n",
       "      <td>0.029220</td>\n",
       "    </tr>\n",
       "    <tr>\n",
       "      <td>3</td>\n",
       "      <td>0.795721</td>\n",
       "      <td>0.023632</td>\n",
       "    </tr>\n",
       "    <tr>\n",
       "      <td>4</td>\n",
       "      <td>0.822648</td>\n",
       "      <td>0.031460</td>\n",
       "    </tr>\n",
       "    <tr>\n",
       "      <td>5</td>\n",
       "      <td>0.785818</td>\n",
       "      <td>0.037334</td>\n",
       "    </tr>\n",
       "    <tr>\n",
       "      <td>6</td>\n",
       "      <td>0.795782</td>\n",
       "      <td>0.029931</td>\n",
       "    </tr>\n",
       "    <tr>\n",
       "      <td>7</td>\n",
       "      <td>0.796928</td>\n",
       "      <td>0.028548</td>\n",
       "    </tr>\n",
       "  </tbody>\n",
       "</table>\n",
       "</div>"
      ],
      "text/plain": [
       "   CrossValMeans  CrossValerrors\n",
       "0       0.820426        0.023359\n",
       "1       0.820385        0.033114\n",
       "2       0.798054        0.029220\n",
       "3       0.795721        0.023632\n",
       "4       0.822648        0.031460\n",
       "5       0.785818        0.037334\n",
       "6       0.795782        0.029931\n",
       "7       0.796928        0.028548"
      ]
     },
     "execution_count": 98,
     "metadata": {},
     "output_type": "execute_result"
    }
   ],
   "source": [
    "clf_re = pd.DataFrame({\"CrossValMeans\":clf_means,\"CrossValerrors\": clf_std})\n",
    "clf_re"
   ]
  },
  {
   "cell_type": "markdown",
   "metadata": {},
   "source": [
    "> 데이터 세트를 8개의 그룹으로 분할한 다음에 8개의 모델에 대해서 기본 모델을 구축한 뒤 gridsearchcv를 통해서 변수들을 최적화 시켜줍니다. kfold 확인 결과 4개의 모델을 이용해서 앙상블 하려고 합니다 "
   ]
  },
  {
   "cell_type": "markdown",
   "metadata": {},
   "source": [
    "### c. 파라미터 튜닝 & GridSearchCV <a id=\"three-c\"></a>"
   ]
  },
  {
   "cell_type": "code",
   "execution_count": 65,
   "metadata": {},
   "outputs": [
    {
     "name": "stdout",
     "output_type": "stream",
     "text": [
      "Fitting 8 folds for each of 100 candidates, totalling 800 fits\n"
     ]
    },
    {
     "name": "stderr",
     "output_type": "stream",
     "text": [
      "[Parallel(n_jobs=4)]: Using backend LokyBackend with 4 concurrent workers.\n",
      "[Parallel(n_jobs=4)]: Done 167 tasks      | elapsed:   18.3s\n",
      "[Parallel(n_jobs=4)]: Done 318 tasks      | elapsed:   37.0s\n",
      "[Parallel(n_jobs=4)]: Done 568 tasks      | elapsed:  1.3min\n",
      "[Parallel(n_jobs=4)]: Done 800 out of 800 | elapsed:  2.0min finished\n"
     ]
    },
    {
     "data": {
      "text/plain": [
       "0.8316498316498316"
      ]
     },
     "execution_count": 65,
     "metadata": {},
     "output_type": "execute_result"
    }
   ],
   "source": [
    "# XGBoost 파라미터 튜닝 \n",
    "XGB = XGBClassifier()\n",
    "xgb_param_grid = {'learning_rate': [1,0.1,0.01,0.001],\n",
    "              'n_estimators': [50, 100, 200, 500, 1000],\n",
    "              'max_depth' : [1,3,5,10,50]}\n",
    "gsXGB = GridSearchCV(XGB,param_grid = xgb_param_grid, cv=kfold, scoring=\"accuracy\", n_jobs= 4, verbose = 1)\n",
    "gsXGB.fit(new_train,Y)\n",
    "XGB_best = gsXGB.best_estimator_\n",
    "\n",
    "# 최고 점수\n",
    "gsXGB.best_score_"
   ]
  },
  {
   "cell_type": "code",
   "execution_count": 66,
   "metadata": {},
   "outputs": [
    {
     "name": "stderr",
     "output_type": "stream",
     "text": [
      "[Parallel(n_jobs=4)]: Using backend LokyBackend with 4 concurrent workers.\n"
     ]
    },
    {
     "name": "stdout",
     "output_type": "stream",
     "text": [
      "Fitting 8 folds for each of 54 candidates, totalling 432 fits\n"
     ]
    },
    {
     "name": "stderr",
     "output_type": "stream",
     "text": [
      "[Parallel(n_jobs=4)]: Done 144 tasks      | elapsed:    3.5s\n",
      "[Parallel(n_jobs=4)]: Done 432 out of 432 | elapsed:   10.2s finished\n"
     ]
    },
    {
     "data": {
      "text/plain": [
       "0.8237934904601572"
      ]
     },
     "execution_count": 66,
     "metadata": {},
     "output_type": "execute_result"
    }
   ],
   "source": [
    "#LGBMClassifier 파라미터 튜닝\n",
    "LGB = LGBMClassifier()\n",
    "lgb_param_grid = {\n",
    "    'n_estimators': [400, 700, 1000], \n",
    "    'max_depth': [15,20,25],\n",
    "    'num_leaves': [50, 100, 200],\n",
    "    'min_split_gain': [0.3, 0.4],\n",
    "}\n",
    "gsLGB = GridSearchCV(LGB,param_grid = lgb_param_grid, cv=kfold, scoring=\"accuracy\", n_jobs= 4, verbose = 1)\n",
    "gsLGB.fit(new_train,Y)\n",
    "LGB_best = gsLGB.best_estimator_\n",
    "\n",
    "# 최고 점수\n",
    "gsLGB.best_score_"
   ]
  },
  {
   "cell_type": "code",
   "execution_count": 67,
   "metadata": {},
   "outputs": [
    {
     "name": "stderr",
     "output_type": "stream",
     "text": [
      "[Parallel(n_jobs=4)]: Using backend LokyBackend with 4 concurrent workers.\n"
     ]
    },
    {
     "name": "stdout",
     "output_type": "stream",
     "text": [
      "Fitting 8 folds for each of 54 candidates, totalling 432 fits\n"
     ]
    },
    {
     "name": "stderr",
     "output_type": "stream",
     "text": [
      "[Parallel(n_jobs=4)]: Done  42 tasks      | elapsed:    3.8s\n",
      "[Parallel(n_jobs=4)]: Done 192 tasks      | elapsed:   16.5s\n",
      "[Parallel(n_jobs=4)]: Done 432 out of 432 | elapsed:   40.3s finished\n"
     ]
    },
    {
     "data": {
      "text/plain": [
       "0.8316498316498316"
      ]
     },
     "execution_count": 67,
     "metadata": {},
     "output_type": "execute_result"
    }
   ],
   "source": [
    "# RandomForestClassifier 파라미터 튜닝 \n",
    "RFC = RandomForestClassifier()\n",
    "\n",
    "rf_param_grid = {\"max_depth\": [None],\n",
    "              \"max_features\": [1, 3, 7],\n",
    "              \"min_samples_split\": [2, 3, 7],\n",
    "              \"min_samples_leaf\": [1, 3, 7],\n",
    "              \"bootstrap\": [False],\n",
    "              \"n_estimators\" :[100,300],\n",
    "              \"criterion\": [\"gini\"]}\n",
    "gsRFC = GridSearchCV(RFC,param_grid = rf_param_grid, cv=kfold, scoring=\"accuracy\", n_jobs= 4, verbose = 1)\n",
    "gsRFC.fit(new_train,Y)\n",
    "RFC_best = gsRFC.best_estimator_\n",
    "\n",
    "# 최고 점수\n",
    "gsRFC.best_score_"
   ]
  },
  {
   "cell_type": "markdown",
   "metadata": {},
   "source": [
    ">Extra Tree Classifier와 유사하게 Random Forest는 여러 의사 결정 트리 분류자를 데이터 집합의 다양한 하위 샘플에 맞추고 평균을 사용하여 예측 정확도를 개선하고 과적 합을 제어합니다. 하위 샘플 크기는 항상 원래 입력 샘플 크기와 동일하지만 bootstrap = True (기본값) 인 경우 샘플이 대체로 그려집니다.\n",
    "\n",
    ">ET와 RF의 차이점-\n",
    ">1) 분할에서 변수를 선택할 때, 훈련 세트의 부트 스트랩 샘플 대신 전체 훈련 세트에서 샘플이 추출됩니다.\n",
    ">2) 분할은 각 분할에서 샘플의 값 범위에서 무작위로 완전히 선택됩니다."
   ]
  },
  {
   "cell_type": "code",
   "execution_count": 68,
   "metadata": {},
   "outputs": [
    {
     "name": "stdout",
     "output_type": "stream",
     "text": [
      "Fitting 8 folds for each of 72 candidates, totalling 576 fits\n"
     ]
    },
    {
     "name": "stderr",
     "output_type": "stream",
     "text": [
      "[Parallel(n_jobs=4)]: Using backend LokyBackend with 4 concurrent workers.\n",
      "[Parallel(n_jobs=4)]: Done 144 tasks      | elapsed:    4.8s\n",
      "[Parallel(n_jobs=4)]: Done 576 out of 576 | elapsed:   18.5s finished\n",
      "C:\\Users\\user\\Anaconda3\\lib\\site-packages\\sklearn\\model_selection\\_search.py:814: DeprecationWarning: The default of the `iid` parameter will change from True to False in version 0.22 and will be removed in 0.24. This will change numeric results when test-set sizes are unequal.\n",
      "  DeprecationWarning)\n"
     ]
    },
    {
     "data": {
      "text/plain": [
       "0.8226711560044894"
      ]
     },
     "execution_count": 68,
     "metadata": {},
     "output_type": "execute_result"
    }
   ],
   "source": [
    "# Gradient boosting 파라미터 튜닝\n",
    "GBC = GradientBoostingClassifier()\n",
    "gb_param_grid = {'loss' : [\"deviance\"],\n",
    "              'n_estimators' : [100,200,300],\n",
    "              'learning_rate': [0.1, 0.05, 0.01],\n",
    "              'max_depth': [4, 8],\n",
    "              'min_samples_leaf': [100,150],\n",
    "              'max_features': [0.3, 0.1] \n",
    "              }\n",
    "gsGBC = GridSearchCV(GBC,param_grid = gb_param_grid, cv=kfold, scoring=\"accuracy\", n_jobs= 4, verbose = 1)\n",
    "gsGBC.fit(new_train,Y)\n",
    "GBC_best = gsGBC.best_estimator_\n",
    "\n",
    "# 최고 점수\n",
    "gsGBC.best_score_"
   ]
  },
  {
   "cell_type": "markdown",
   "metadata": {},
   "source": [
    "> 그라디언트 부스팅은 예측 모델을 작성하는 가장 강력한 기술 중 하나로 부스팅은 단계별 모델 방식으로 가산 모델을 작성하여 약한 학습자를 강력한 학습자로 변환하는 방법 \n",
    "부스팅에서 각각의 새 트리는 원래 데이터 세트의 수정 된 버전에 적합하다."
   ]
  },
  {
   "cell_type": "markdown",
   "metadata": {},
   "source": [
    "## IV. 예측 <a id=\"four\"></a>"
   ]
  },
  {
   "cell_type": "markdown",
   "metadata": {},
   "source": [
    "### a.앙상블 <a id=\"four-a\"></a>"
   ]
  },
  {
   "cell_type": "code",
   "execution_count": 69,
   "metadata": {},
   "outputs": [
    {
     "data": {
      "image/png": "[encoded data removed]",
      "text/plain": [
       "<Figure size 432x288 with 2 Axes>"
      ]
     },
     "metadata": {
      "needs_background": "light"
     },
     "output_type": "display_data"
    }
   ],
   "source": [
    "test_Survived_XGB = pd.Series(XGB_best.predict(new_test), name=\"XGB\")\n",
    "test_Survived_LGB = pd.Series(LGB_best.predict(new_test), name=\"LGB\")\n",
    "test_Survived_RFC = pd.Series(RFC_best.predict(new_test), name=\"RFC\")\n",
    "test_Survived_GBC = pd.Series(GBC_best.predict(new_test), name=\"GBC\")\n",
    "\n",
    "ensemble_results = pd.concat([test_Survived_XGB,test_Survived_LGB,\n",
    "                              test_Survived_RFC,test_Survived_GBC],axis=1)\n",
    "g= sns.heatmap(ensemble_results.corr(),annot=True)"
   ]
  },
  {
   "cell_type": "markdown",
   "metadata": {},
   "source": [
    "> 4가지 모델을 heatmap을 통해서 상관관계를 비교해보고 상관성이 높은 RFC와 LGB 모델을 이용하여\n",
    "앙상블 모델을 만들어서 결과를 제출합니다"
   ]
  },
  {
   "cell_type": "markdown",
   "metadata": {},
   "source": [
    "### b.보팅 <a id=\"four-b\"></a>"
   ]
  },
  {
   "cell_type": "code",
   "execution_count": 71,
   "metadata": {},
   "outputs": [],
   "source": [
    "from sklearn.ensemble import VotingClassifier"
   ]
  },
  {
   "cell_type": "code",
   "execution_count": 72,
   "metadata": {},
   "outputs": [],
   "source": [
    "votingC = VotingClassifier(estimators=[('XGB', XGB_best), ('LGB', LGB_best),\n",
    "('RFC', RFC_best), ('GBC',GBC_best)], voting='soft', n_jobs=4)\n",
    "votingC = votingC.fit(new_train, Y)  "
   ]
  },
  {
   "cell_type": "code",
   "execution_count": 73,
   "metadata": {},
   "outputs": [],
   "source": [
    "test_Survived = pd.Series(votingC.predict(new_test), name=\"Survived\")"
   ]
  },
  {
   "cell_type": "code",
   "execution_count": 74,
   "metadata": {},
   "outputs": [],
   "source": [
    "submission = pd.DataFrame({\n",
    "    \"PassengerId\" :test[\"PassengerId\"],\n",
    "    \"Survived\": test_Survived\n",
    "})"
   ]
  },
  {
   "cell_type": "code",
   "execution_count": 75,
   "metadata": {},
   "outputs": [],
   "source": [
    "submission.to_csv('voting_titanic.csv',index=False) "
   ]
  },
  {
   "cell_type": "markdown",
   "metadata": {},
   "source": [
    "> 투표는 여러 머신 러닝 모델의 예측을 결합하는 가장 간단한 방법 중 하나입니다. 실제 분류기는 아니지만 각 알고리즘의 다른 특성을 이용하기 위해 병렬로 학습되고 평가되는 다른 세트에 대한 래퍼입니다. 투표를 기반으로 구축하고 예측 한 모델의 예측을 결합합니다."
   ]
  },
  {
   "cell_type": "markdown",
   "metadata": {},
   "source": [
    "### c.스태킹 <a id=\"four-c\"></a>"
   ]
  },
  {
   "cell_type": "code",
   "execution_count": 76,
   "metadata": {},
   "outputs": [],
   "source": [
    "from mlxtend.classifier import StackingClassifier\n",
    "from sklearn.utils.testing import ignore_warnings"
   ]
  },
  {
   "cell_type": "code",
   "execution_count": 77,
   "metadata": {},
   "outputs": [],
   "source": [
    "clf1 = XGB_best\n",
    "clf2 = LGB_best\n",
    "clf3 = RFC_best\n",
    "clf4 = GBC_best\n",
    "\n",
    "lr = LogisticRegression()\n",
    "st_clf = StackingClassifier(classifiers=[clf1, clf1, clf2, clf3, clf4], meta_classifier=lr)\n",
    "params = {'meta_classifier__C': [0.1,1.0,5.0,10.0] ,\n",
    "          #'use_probas': [True] ,\n",
    "          #'average_probas': [True] ,\n",
    "          'use_features_in_secondary' : [True, False]\n",
    "         }\n",
    "with ignore_warnings(category=DeprecationWarning):\n",
    "    st_clf_grid = GridSearchCV(estimator=st_clf, param_grid=params, cv=5, refit=True)\n",
    "    st_clf_grid.fit(new_train, Y)\n",
    "    st_clf_grid.best_score_"
   ]
  },
  {
   "cell_type": "code",
   "execution_count": 78,
   "metadata": {},
   "outputs": [],
   "source": [
    "with ignore_warnings(category=DeprecationWarning):    \n",
    "    pred_all_stack = st_clf_grid.predict(new_test)\n",
    "\n",
    "submission1 = pd.DataFrame({\n",
    "    \"PassengerId\" :test[\"PassengerId\"],\n",
    "    \"Survived\": pred_all_stack\n",
    "})\n",
    "submission1.to_csv('stack_clf.csv',index=False)"
   ]
  },
  {
   "cell_type": "markdown",
   "metadata": {},
   "source": [
    ">Boosting, Stacking 및 Voting과 같은 분류에 앙상블 모델을 적용하여 타이타닉 생존자 예측을 하였다"
   ]
  }
 ],
 "metadata": {
  "kernelspec": {
   "display_name": "Python 3",
   "language": "python",
   "name": "python3"
  },
  "language_info": {
   "codemirror_mode": {
    "name": "ipython",
    "version": 3
   },
   "file_extension": ".py",
   "mimetype": "text/x-python",
   "name": "python",
   "nbconvert_exporter": "python",
   "pygments_lexer": "ipython3",
   "version": "3.7.4"
  }
 },
 "nbformat": 4,
 "nbformat_minor": 2
}
